{
 "cells": [
  {
   "cell_type": "code",
   "execution_count": 1,
   "metadata": {
    "collapsed": true
   },
   "outputs": [],
   "source": [
    "import numpy as np\n",
    "import matplotlib.pyplot as plt\n",
    "%matplotlib inline\n",
    "from scipy.optimize import curve_fit\n",
    "from scipy.integrate import quad\n",
    "import sympy as sp; sp.init_printing()\n",
    "from wheeler import wheeler"
   ]
  },
  {
   "cell_type": "markdown",
   "metadata": {},
   "source": [
    "## Rolsin Rammler Fit\n",
    "\n",
    "* Find the Roslin Rammler distribution for an experimental cumulative size distribution.\n",
    "    * Given the particle sizes (diameters) and the cumulative distribution fractions.\n",
    "    * Fit the data to find the R-R parameters \n",
    "* Given the R-R distribution, select a desired number N of particle sizes to consider.\n",
    "    * Compute 2N moments of the distribution and invert these moments to find corresponding quadrature weights and abscissas.\n",
    "        * The abscissas are the particle diamters.\n",
    "        * The weights are the number of particles.\n",
    "    * Scale the weights by a constant factor so that the total particle mass is some desired value: mcoal."
   ]
  },
  {
   "cell_type": "code",
   "execution_count": 19,
   "metadata": {},
   "outputs": [
    {
     "name": "stdout",
     "output_type": "stream",
     "text": [
      "101.0 101.0\n"
     ]
    },
    {
     "data": {
      "image/png": "[encoded data removed]",
      "text/plain": [
       "<Figure size 432x288 with 1 Axes>"
      ]
     },
     "metadata": {},
     "output_type": "display_data"
    }
   ],
   "source": [
    "m  = np.array([0, 44, 74, 149, 250])                  # SPECIFY: particle masses (kg/part)\n",
    "c  = np.array([0, 0.1838, 0.31717, 0.60845, 0.81193]) # SPECIFY: particle numbers (#/m3)\n",
    "mcoal = 101.0                                         # SPECIFY: desired total coal (kg/m3)\n",
    "rhoc  = 2000                                          # SPECIFY: coal particle density (kg/m3)\n",
    "\n",
    "#----------------------- fit CDF(m) to RR distribution\n",
    "# RR = RR(m) with mp and n as fitted parameters\n",
    "\n",
    "def RR_cdf(m, mp, n):\n",
    "    return 1 - np.exp(-(m/mp)**n)\n",
    "def RR_pdf(m, mp, n):\n",
    "    return n*(m/mp)**n/m*np.exp(-(m/mp)**n)\n",
    "\n",
    "mp_n, _ = curve_fit(RR_cdf, m, c, p0=(np.average(m), 1))      # fit to the CDF\n",
    "mp = mp_n[0]\n",
    "n  = mp_n[1]\n",
    "\n",
    "m_lots = np.linspace(0.01,np.max(m)*4,1000)   # x-axis for plotting \n",
    "c_fit = RR_cdf(m_lots, mp, n)                 # \n",
    "\n",
    "\n",
    "#------------------------\n",
    "# compute moments to find corresponding weights and abscissas\n",
    "# invert the moments to get weights, abscissas\n",
    "# use the wheeler algorithm\n",
    "# The number of weights and abscissas = n_moments/2\n",
    "\n",
    "Nsizes = 6\n",
    "Nmom = Nsizes*2\n",
    "\n",
    "Mom = np.empty(Nmom)\n",
    "for k in range(Nmom):\n",
    "    Mom[k] = quad( lambda x: RR_pdf(x, mp, n)*x**k, 0, np.max(m)*5 )[0]\n",
    "\n",
    "wts, absc = wheeler(Mom)\n",
    "\n",
    "#----------------------- plot results\n",
    "\n",
    "plt.rc('font', size=14)\n",
    "plt.plot(m,      c,     'ko:')\n",
    "plt.plot(m_lots, c_fit, 'k-') \n",
    "plt.plot(absc, RR_cdf(absc, mp, n), '*', markersize=12)\n",
    "plt.legend(['CDF', 'CDF fit', 'absc locations'], frameon=False)\n",
    "plt.xlabel('m')\n",
    "plt.ylabel('CDF');\n",
    "\n",
    "#----------------------- scale the wts for desired mcoal\n",
    "# assume absc are particle diameters\n",
    "\n",
    "M = np.pi/6*absc**3*rhoc\n",
    "wts = wts*mcoal/np.sum(wts*M)\n",
    "\n",
    "print(mcoal, np.sum(wts*M))\n",
    "\n"
   ]
  },
  {
   "cell_type": "code",
   "execution_count": null,
   "metadata": {},
   "outputs": [],
   "source": []
  }
 ],
 "metadata": {
  "kernelspec": {
   "display_name": "Python 3",
   "language": "python",
   "name": "python3"
  },
  "language_info": {
   "codemirror_mode": {
    "name": "ipython",
    "version": 3
   },
   "file_extension": ".py",
   "mimetype": "text/x-python",
   "name": "python",
   "nbconvert_exporter": "python",
   "pygments_lexer": "ipython3",
   "version": "3.6.4"
  }
 },
 "nbformat": 4,
 "nbformat_minor": 2
}
